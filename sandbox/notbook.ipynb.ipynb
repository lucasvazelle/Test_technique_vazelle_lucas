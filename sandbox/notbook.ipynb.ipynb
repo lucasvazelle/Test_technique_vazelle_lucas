{
 "cells": [
  {
   "cell_type": "code",
   "execution_count": 1,
   "id": "90d583ca",
   "metadata": {},
   "outputs": [
    {
     "name": "stderr",
     "output_type": "stream",
     "text": [
      "c:\\Users\\lucas\\OneDrive\\Documents\\CDI\\test\\Test_technique_vazelle_lucas\\.venv\\lib\\site-packages\\tqdm\\auto.py:21: TqdmWarning: IProgress not found. Please update jupyter and ipywidgets. See https://ipywidgets.readthedocs.io/en/stable/user_install.html\n",
      "  from .autonotebook import tqdm as notebook_tqdm\n"
     ]
    }
   ],
   "source": [
    "import pandas as pd\n",
    "pd.set_option('display.max_rows', 500)\n",
    "pd.set_option('display.max_columns', 500)\n",
    "pd.set_option('display.width', 1000)\n",
    "pd.set_option('display.max_colwidth', 500)\n",
    "from langchain.schema import Document\n",
    "from sentence_transformers import SentenceTransformer\n",
    "import faiss\n",
    "import numpy as np\n",
    "import os\n",
    "from pprint import pprint\n",
    "from langchain_community.vectorstores import FAISS\n",
    "# from langchain_community.embeddings import HuggingFaceEmbeddings\n",
    "from langchain_huggingface import HuggingFaceEmbeddings\n",
    "from langchain.schema import Document\n",
    "import os\n",
    "import duckdb\n",
    "\n"
   ]
  },
  {
   "cell_type": "code",
   "execution_count": null,
   "id": "61d8f9f142d9ceb8",
   "metadata": {
    "collapsed": false
   },
   "outputs": [],
   "source": [
    "!pip install langchain datasets transformers langchain_community langchain_openai langchain_text_splitters faiss-cpu sentence-transformers"
   ]
  },
  {
   "cell_type": "markdown",
   "id": "f1f6da23",
   "metadata": {},
   "source": [
    "# Explore data"
   ]
  },
  {
   "cell_type": "code",
   "execution_count": null,
   "id": "7862aa8c",
   "metadata": {},
   "outputs": [],
   "source": [
    "\n",
    "info = pd.read_csv(\"../data/info_particulier_impot.csv\", sep = \",\")\n",
    "question =pd.read_csv(\"../data/questions_fiches_fip.csv\", sep = \",\")"
   ]
  },
  {
   "cell_type": "code",
   "execution_count": 51,
   "id": "5bf27eae",
   "metadata": {},
   "outputs": [
    {
     "data": {
      "text/html": [
       "<div>\n",
       "<style scoped>\n",
       "    .dataframe tbody tr th:only-of-type {\n",
       "        vertical-align: middle;\n",
       "    }\n",
       "\n",
       "    .dataframe tbody tr th {\n",
       "        vertical-align: top;\n",
       "    }\n",
       "\n",
       "    .dataframe thead th {\n",
       "        text-align: right;\n",
       "    }\n",
       "</style>\n",
       "<table border=\"1\" class=\"dataframe\">\n",
       "  <thead>\n",
       "    <tr style=\"text-align: right;\">\n",
       "      <th></th>\n",
       "      <th>Unnamed: 0</th>\n",
       "      <th>niveau_0</th>\n",
       "      <th>niveau_1</th>\n",
       "      <th>URL</th>\n",
       "      <th>Titre</th>\n",
       "      <th>Texte</th>\n",
       "    </tr>\n",
       "  </thead>\n",
       "  <tbody>\n",
       "    <tr>\n",
       "      <th>44</th>\n",
       "      <td>44</td>\n",
       "      <td>https://www.impots.gouv.fr/particulier/payer-mes-impots-taxes</td>\n",
       "      <td>https://www.impots.gouv.fr/particulier/je-dois-payer-une-amende-ou-un-forfait-de-post-stationnement</td>\n",
       "      <td>https://www.impots.gouv.fr/je-paie-mon-amende-ou-mon-forfait-de-post-stationnement-0</td>\n",
       "      <td>JE PAIE MON AMENDE OU MON FORFAIT DE POST-STATIONNEMENT</td>\n",
       "      <td>Je paie mon amende ou mon forfait de post-stationnement\\n1\\nJe paie mon amende\\nJe paie mon forfait de post-stationnement\\n2\\nJe paie par internet (sur mon ordinateur ou mon smartphone)\\nJe paie chez un buraliste agréé (paiement de proximité)\\nJe paie par téléphone\\nJe paie par chèque\\nJe paie auprès d'un centre des Finances publiques\\nJe suis un redevable étranger et je paye mon amende forfaitaire majorée radar\\nJe paie par internet (sur mon ordinateur ou mon smartphone)\\nJe paie chez un bu...</td>\n",
       "    </tr>\n",
       "  </tbody>\n",
       "</table>\n",
       "</div>"
      ],
      "text/plain": [
       "    Unnamed: 0                                                       niveau_0                                                                                             niveau_1                                                                                   URL                                                    Titre                                                                                                                                                                                                                                                                                                                                                                                                                                                                                                                Texte\n",
       "44          44  https://www.impots.gouv.fr/particulier/payer-mes-impots-taxes  https://www.impots.gouv.fr/particulier/je-dois-payer-une-amende-ou-un-forfait-de-post-stationnement  https://www.impots.gouv.fr/je-paie-mon-amende-ou-mon-forfait-de-post-stationnement-0  JE PAIE MON AMENDE OU MON FORFAIT DE POST-STATIONNEMENT  Je paie mon amende ou mon forfait de post-stationnement\\n1\\nJe paie mon amende\\nJe paie mon forfait de post-stationnement\\n2\\nJe paie par internet (sur mon ordinateur ou mon smartphone)\\nJe paie chez un buraliste agréé (paiement de proximité)\\nJe paie par téléphone\\nJe paie par chèque\\nJe paie auprès d'un centre des Finances publiques\\nJe suis un redevable étranger et je paye mon amende forfaitaire majorée radar\\nJe paie par internet (sur mon ordinateur ou mon smartphone)\\nJe paie chez un bu..."
      ]
     },
     "execution_count": 51,
     "metadata": {},
     "output_type": "execute_result"
    }
   ],
   "source": [
    "info[info[\"Unnamed: 0\"]==44]"
   ]
  },
  {
   "cell_type": "code",
   "execution_count": 50,
   "id": "3fa244a4",
   "metadata": {},
   "outputs": [
    {
     "data": {
      "text/html": [
       "<div>\n",
       "<style scoped>\n",
       "    .dataframe tbody tr th:only-of-type {\n",
       "        vertical-align: middle;\n",
       "    }\n",
       "\n",
       "    .dataframe tbody tr th {\n",
       "        vertical-align: top;\n",
       "    }\n",
       "\n",
       "    .dataframe thead th {\n",
       "        text-align: right;\n",
       "    }\n",
       "</style>\n",
       "<table border=\"1\" class=\"dataframe\">\n",
       "  <thead>\n",
       "    <tr style=\"text-align: right;\">\n",
       "      <th></th>\n",
       "      <th>Unnamed: 0</th>\n",
       "      <th>question</th>\n",
       "      <th>num_texte</th>\n",
       "    </tr>\n",
       "  </thead>\n",
       "  <tbody>\n",
       "    <tr>\n",
       "      <th>670</th>\n",
       "      <td>44</td>\n",
       "      <td>Dans quel cas un contribuable peut-il cocher la case G ?</td>\n",
       "      <td>3</td>\n",
       "    </tr>\n",
       "  </tbody>\n",
       "</table>\n",
       "</div>"
      ],
      "text/plain": [
       "     Unnamed: 0                                                  question  num_texte\n",
       "670          44  Dans quel cas un contribuable peut-il cocher la case G ?          3"
      ]
     },
     "execution_count": 50,
     "metadata": {},
     "output_type": "execute_result"
    }
   ],
   "source": [
    "question[question[\"Unnamed: 0\"]==44]"
   ]
  },
  {
   "cell_type": "code",
   "execution_count": 30,
   "id": "34f7aa04",
   "metadata": {},
   "outputs": [
    {
     "data": {
      "text/plain": [
       "[{'Unnamed: 0': 0,\n",
       "  'niveau_0': 'https://www.impots.gouv.fr/particulier/declarer-mes-revenus',\n",
       "  'niveau_1': 'https://www.impots.gouv.fr/particulier/je-declare-pour-la-premiere-fois-je-declare-chaque-annee',\n",
       "  'URL': 'https://www.impots.gouv.fr/particulier/lobligation-de-declarer-vos-revenus-chaque-annee',\n",
       "  'Titre': 'OBLIGATIONS DÉCLARATIVES',\n",
       "  'Texte': \"Obligations déclaratives\\nL'obligation de déclarer vos revenus chaque année\\nSi vous êtes dans l’une des situations suivantes, vous devez souscrire une déclaration des revenus :\\nvous avez en France votre foyer (résidence habituelle) ou votre lieu de séjour principal (en règle générale si vous y séjournez pendant plus de 6 mois par an)\\xa0;\\nvous exercez votre activité professionnelle principale en France\\xa0;\\nvous avez en France le centre de vos intérêts économiques (vos principaux investissements ou le siège de vos affaires sont en France).\\nSi vous avez eu 18 ans l'année d'imposition des revenus et que vous n'êtes plus rattaché au foyer fiscal de vos parents, vous devez désormais remplir vos propres obligations fiscales.\\nLes personnes non domiciliées en France doivent aussi souscrire une déclaration de revenus, si elles disposent de revenus de source française (elles sont alors imposées sur ces seuls revenus). L'imposition de ces personnes ne s'applique que sous réserve des conventions internationales conclues par la France.\\nLa souscription de la déclaration des revenus avant la date limite constitue donc un acte important de la vie de chaque citoyen, quel que soit le niveau de ses revenus.\\nLe respect de la date limite est important\\xa0: le non-dépôt de la déclaration dans les délais entraîne l’application d’une majoration de :\\n10 % si vous avez déposé sans mise en demeure de déposer de la part de l’administration ou si vous avez déposé votre déclaration dans les trente jours suivant la réception d’une mise en demeure\\xa0;\\n40 % si vous avez déposé dans les trente jours suivant la réception d’une mise en demeure.\\nSi vous déclarez pour la première fois, procurez-vous la déclaration des revenus n°2042 sur le site impot.gouv.fr ou dans un centre des finances publiques. Vous devez compléter l'ensemble des informations demandées sur la première page, déclarer vos revenus et charges et compléter le formulaire intégré à la déclaration (en fournissant les documents indiqués). Adressez votre déclaration au centre des finances publiques du lieu de votre résidence au 1\\ner\\njanvier 2024.\\nSi vous avez plus de 20 ans, que l'année précédente vous vous étiez rattaché au foyer fiscal de vos parents, et que vous avez reçu un courrier de l'administration fiscale avec vos identifiants, vous pouvez déclarer vos revenus en ligne. Votre déclaration en ligne sera alors pré-remplie de vos revenus, et le cas échéant, des montants de retenue à la source prélevés durant l'année 2023.\\nLa déclaration automatique\\nDepuis la déclaration des revenus 2019, l'administration propose un nouveau moyen de déclarer ses revenus\\xa0: la déclaration automatique.\\nLa déclaration automatique est proposée aux foyers fiscaux qui ont été imposés, pour les revenus 2022, uniquement sur des revenus préremplis par l'administration (salaires, pensions, revenus de capitaux mobiliers) et qui n'ont signalé aucun changement de situation (adresse, situation de famille ou création d'un acompte de prélèvement à la source) en 2023.\\nLes foyers éligibles à la déclaration automatique recevront soit un courriel avec un lien vers un document disponible dans leur compte particuliers (s'ils avaient déclaré en ligne l'année dernière), soit une déclaration de revenus sous un format adapté (déclaration n° 2042 AUTO).\\nCes documents présent les informations connues de l'administration au titre de l’année 2023 : situation de famille, revenus (salaires, pensions, revenus de capitaux mobiliers), contribution sociale généralisée (CSG) déductible, dépenses d'emploi à domicile payées via le Cesu ou Pajemploi, prélèvement à la source déjà payé.\\nSi toutes les informations sont correctes et complètes, vous n'avez rien d'autre à faire. Votre déclaration sera automatiquement validée par l'administration à l'issue du délai de déclaration. L'impôt sera établi sur la base des éléments connus présentés sur la déclaration.\\nSi certains éléments doivent être complétés ou modifiés [adresse, situation de famille, montant des revenus et charges, dépenses éligibles à réduction / crédit d'impôt, option pour choisir l’imposition au barème des revenus de capitaux mobiliers (si la case 2OP n'est pas déjà cochée) ou renonciation à cette option (si la case 2OP est déjà cochée)…], vous devrez alors effectuer votre déclaration (en ligne ou papier) comme habituellement\\nLa suite donnée à la déclaration\\nLa déclaration des revenus permet à l’administration de calculer l’impôt dû au titre d'une année et le montant du solde à payer (après déduction du montant du prélèvement à la source effectué durant l'année N), ou de constater qu'aucun impôt n'est dû au titre de l'année. Avec l'instauration du prélèvement à la source, la déclaration permet également de mettre à jour votre taux de prélèvement à la source à compter du mois de septembre.\\nLes contribuables qui souscrivent une déclaration disposent, qu'un montant d'impôt soit ou non à payer, d'un avis d’impôt sur le revenu (et, le cas échéant, de prélèvements sociaux).\\nL’avis d’impôt sur le revenu, est un document indispensable à l’accomplissement de certaines démarches ou à l’obtention de certains avantages (par exemple, exonérations de taxe foncière, avantages sociaux\\xa0, ...).\\nD’autres administrations peuvent également vous le demander comme la caisse des allocations familiales (CAF) ou le CROUS.\\nLe calendrier en bref\\nLa déclaration de revenus doit être souscrite chaque année de la mi-avril à la mi-mai (si vous déposez papier) ou jusqu'à début juin si vous déclarez en ligne, selon votre département de résidence.\\nPour connaître le calendrier exact de déclaration, consulter la rubrique «\\nConsulter votre calendrier fiscal\\n» du bloc «\\xa0Documentation utile\\xa0».\\nSi votre résidence principale est équipée d’un accès à internet, votre déclaration de revenus doit être réalisée par internet. Toutefois, si vous estimez ne pas être en mesure de le faire, vous pouvez continuer à utiliser une déclaration papier.\\nL'avis d'impôt est adressé par l'administration fiscale au cours du second semestre de l'année (et mis à disposition dans votre compte fiscal en ligne). Pour plus de précisions, consultez le calendrier fiscal sur impots.gouv.fr.\\nMAJ le 10/04/2024\"}]"
      ]
     },
     "execution_count": 30,
     "metadata": {},
     "output_type": "execute_result"
    }
   ],
   "source": [
    "info.head(1).to_dict(orient=\"records\")"
   ]
  },
  {
   "cell_type": "markdown",
   "id": "2ef6c3a1a644c5bc",
   "metadata": {
    "collapsed": false
   },
   "source": [
    "# RAGS from Scracth\n",
    "**Objectif** : Développer, from scratch, une architecture RAG en 4 modules: \n",
    "\n",
    "- Lecture et découpage du csv (une ligne = un document)\n",
    "- Générer les embeddings\n",
    "- Récupérer les passages pertinents en fonction d'une requête"
   ]
  },
  {
   "cell_type": "code",
   "execution_count": 84,
   "id": "51b58d96",
   "metadata": {},
   "outputs": [],
   "source": [
    "def load_csv_to_duckdb(csv_path: str, db_path: str, table_name: str = \"info_particulier_impot\"):\n",
    "    df = pd.read_csv(csv_path)\n",
    "\n",
    "    con = duckdb.connect(database=db_path)\n",
    "    con.execute(f\"DROP TABLE IF EXISTS {table_name}\")\n",
    "    con.execute(f\"CREATE TABLE {table_name} AS SELECT * FROM df\")\n",
    "    con.close()\n",
    "    print(f\"✅ Données chargées dans DuckDB : {db_path} [{table_name}]\")\n"
   ]
  },
  {
   "cell_type": "code",
   "execution_count": 85,
   "id": "16994448",
   "metadata": {},
   "outputs": [
    {
     "name": "stdout",
     "output_type": "stream",
     "text": [
      "✅ Données chargées dans DuckDB : ../data/data.duckdb [info_particulier_impot]\n"
     ]
    }
   ],
   "source": [
    "load_csv_to_duckdb(\n",
    "        csv_path=\"../data/info_particulier_impot.csv\",\n",
    "        db_path=\"../data/data.duckdb\"\n",
    "    )"
   ]
  },
  {
   "cell_type": "code",
   "execution_count": 5,
   "id": "54b6027e8261adc",
   "metadata": {
    "ExecuteTime": {
     "end_time": "2024-11-22T11:33:00.637875Z",
     "start_time": "2024-11-22T11:33:00.264983Z"
    },
    "collapsed": false
   },
   "outputs": [],
   "source": [
    "\n",
    "def load_documents_from_csv(csv_path: str) -> list[Document]:\n",
    "    df = pd.read_csv(csv_path, sep=\",\")\n",
    "\n",
    "    documents = []\n",
    "    for _, row in df.iterrows():\n",
    "        titre = row.get(\"Titre\", \"\")\n",
    "        texte = row.get(\"Texte\", \"\")\n",
    "        url = row.get(\"URL\", \"\")\n",
    "        content = f\"{titre}\\n\\n{texte}\"\n",
    "\n",
    "        metadata = {\n",
    "            \"source\": url,\n",
    "            \"titre\": titre\n",
    "        }\n",
    "\n",
    "        documents.append(Document(page_content=content, metadata=metadata))\n",
    "\n",
    "    return documents\n"
   ]
  },
  {
   "cell_type": "code",
   "execution_count": null,
   "id": "111e1dbb",
   "metadata": {},
   "outputs": [],
   "source": [
    "# def split_text_fine(text: str) -> list[str]:\n",
    "#     lines = [line.strip() for line in text.split('\\n') if line.strip()]\n",
    "#     chunks = []\n",
    "#     current_chunk = []\n",
    "\n",
    "#     for line in lines:\n",
    "#         # Si la ligne est très courte (< 40 chars) on considère que c'est un titre ou séparateur\n",
    "#         if len(line) < 40:\n",
    "#             if current_chunk:\n",
    "#                 chunks.append(' '.join(current_chunk))\n",
    "#                 current_chunk = []\n",
    "#             chunks.append(line)  # ligne courte devient chunk seul\n",
    "#         else:\n",
    "#             current_chunk.append(line)\n",
    "\n",
    "#     # Ajouter le dernier chunk s'il existe\n",
    "#     if current_chunk:\n",
    "#         chunks.append(' '.join(current_chunk))\n",
    "\n",
    "#     return chunks\n"
   ]
  },
  {
   "cell_type": "code",
   "execution_count": 21,
   "id": "9c9173e9",
   "metadata": {},
   "outputs": [],
   "source": [
    "\n",
    "def load_documents_from_duckdb(db_path: str, table_name: str = \"info_particulier_impot\") -> list[Document]:\n",
    "    con = duckdb.connect(database=db_path)\n",
    "    df = con.execute(f\"SELECT * FROM {table_name}\").fetchdf()\n",
    "    con.close()\n",
    "\n",
    "    documents = []\n",
    "    for _, row in df.iterrows():\n",
    "        titre = row.get(\"Titre\", \"\")\n",
    "        texte = row.get(\"Texte\", \"\")\n",
    "        url = row.get(\"URL\", \"\")\n",
    "        content = f\"{titre}\\n\\n{texte}\"\n",
    "\n",
    "        metadata = {\n",
    "            \"source\": url,\n",
    "            \"titre\": titre\n",
    "        }\n",
    "\n",
    "        documents.append(Document(page_content=content, metadata=metadata))\n",
    "\n",
    "    return documents\n",
    "\n",
    "# def load_documents_from_duckdb(db_path: str, table_name: str = \"info_particulier_impot\") -> list[Document]:\n",
    "#     con = duckdb.connect(database=db_path)\n",
    "#     df = con.execute(f\"SELECT * FROM {table_name}\").fetchdf()\n",
    "#     con.close()\n",
    "\n",
    "#     documents = []\n",
    "#     for _, row in df.iterrows():\n",
    "#         titre = row.get(\"Titre\", \"\")\n",
    "#         texte = row.get(\"Texte\", \"\")\n",
    "#         url = row.get(\"URL\", \"\")\n",
    "\n",
    "#         # On split en paragraphes par double saut de ligne\n",
    "#         paragraphs = split_text_fine(texte)\n",
    "\n",
    "#         for i, paragraph in enumerate(paragraphs):\n",
    "#             content = f\"{titre}\\n\\n{paragraph}\"\n",
    "\n",
    "#             metadata = {\n",
    "#                 \"source\": url,\n",
    "#                 \"titre\": titre,\n",
    "#                 \"paragraph_index\": i\n",
    "#             }\n",
    "\n",
    "#             documents.append(Document(page_content=content, metadata=metadata))\n",
    "\n",
    "#     return documents\n"
   ]
  },
  {
   "cell_type": "code",
   "execution_count": 22,
   "id": "187c2949",
   "metadata": {},
   "outputs": [
    {
     "name": "stdout",
     "output_type": "stream",
     "text": [
      "\n",
      "--- Chunk 1 ---\n",
      "Titre : OBLIGATIONS DÉCLARATIVES\n",
      "Source : https://www.impots.gouv.fr/particulier/lobligation-de-declarer-vos-revenus-chaque-annee\n",
      "Contenu :\n",
      "OBLIGATIONS DÉCLARATIVES\n",
      "\n",
      "Obligations déclaratives\n",
      "L'obligation de déclarer vos revenus chaque année\n",
      "Si vous êtes dans l’une des situations suivantes, vous devez souscrire une déclaration des revenus :\n",
      "vous avez en France votre foyer (résidence habituelle) ou votre lieu de séjour principal (en règle générale si vous y séjournez pendant plus de 6 mois par an) ;\n",
      "vous exercez votre activité professionnelle principale en France ;\n",
      "vous avez en France le centre de vos intérêts économiques (vos princip\n",
      "------------------------------------------------------------\n",
      "\n",
      "--- Chunk 2 ---\n",
      "Titre : MODALITÉS DE DÉCLARATION\n",
      "Source : https://www.impots.gouv.fr/particulier/modalites-de-declaration\n",
      "Contenu :\n",
      "MODALITÉS DE DÉCLARATION\n",
      "\n",
      "Modalités de déclaration\n",
      "Le principe : une seule déclaration de revenus par foyer fiscal\n",
      "Pour les personnes seules (célibataires, divorcés, veufs, concubins) le foyer fiscal est constitué du contribuable et des personnes à charge.\n",
      "Pour les personnes mariées et pacsées, le foyer fiscal est constitué du contribuable, de son conjoint et des personnes à charge.\n",
      "Les revenus et les charges de tous les membres du foyer fiscal sont pris en compte pour établir une imposition uni\n",
      "------------------------------------------------------------\n",
      "\n",
      "--- Chunk 3 ---\n",
      "Titre : DÉCLAREZ EN LIGNE\n",
      "Source : https://www.impots.gouv.fr/particulier/declarez-en-ligne\n",
      "Contenu :\n",
      "DÉCLAREZ EN LIGNE\n",
      "\n",
      "Déclarez en ligne\n",
      "Les avantages de la déclaration en ligne\n",
      "En choisissant la déclaration en ligne, vous profitez de plusieurs avantages :\n",
      "vous avez un délai supplémentaire pour déclarer vos revenus par rapport à la déclaration papier ;\n",
      "vous disposez de la mention de certaines données déjà pré-remplies, d’une aide à la saisie, du calcul automatique de vos frais kilométriques, d'un mécanisme de report entre les déclarations annexes et la déclaration principale ;\n",
      "un courriel de c\n",
      "------------------------------------------------------------\n"
     ]
    }
   ],
   "source": [
    "\n",
    "def inspect_documents(documents, n=3):\n",
    "    for i, doc in enumerate(documents[:n], 1):\n",
    "        print(f\"\\n--- Chunk {i} ---\")\n",
    "        print(\"Titre :\", doc.metadata.get(\"titre\", \"\"))\n",
    "        print(\"Source :\", doc.metadata.get(\"source\", \"\"))\n",
    "        print(\"Contenu :\")\n",
    "        print(doc.page_content[:500])  # Limite d'affichage pour pas tout inonder\n",
    "        print(\"-\" * 60)\n",
    "\n",
    "inspect_documents(\n",
    "                  load_documents_from_csv(\"../data/info_particulier_impot.csv\")\n",
    ")"
   ]
  },
  {
   "cell_type": "code",
   "execution_count": 23,
   "id": "9220e8ad",
   "metadata": {},
   "outputs": [
    {
     "name": "stdout",
     "output_type": "stream",
     "text": [
      "\n",
      "--- Chunk 1 ---\n",
      "Titre : OBLIGATIONS DÉCLARATIVES\n",
      "Source : https://www.impots.gouv.fr/particulier/lobligation-de-declarer-vos-revenus-chaque-annee\n",
      "Contenu :\n",
      "OBLIGATIONS DÉCLARATIVES\n",
      "\n",
      "Obligations déclaratives\n",
      "L'obligation de déclarer vos revenus chaque année\n",
      "Si vous êtes dans l’une des situations suivantes, vous devez souscrire une déclaration des revenus :\n",
      "vous avez en France votre foyer (résidence habituelle) ou votre lieu de séjour principal (en règle générale si vous y séjournez pendant plus de 6 mois par an) ;\n",
      "vous exercez votre activité professionnelle principale en France ;\n",
      "vous avez en France le centre de vos intérêts économiques (vos princip\n",
      "------------------------------------------------------------\n",
      "\n",
      "--- Chunk 2 ---\n",
      "Titre : MODALITÉS DE DÉCLARATION\n",
      "Source : https://www.impots.gouv.fr/particulier/modalites-de-declaration\n",
      "Contenu :\n",
      "MODALITÉS DE DÉCLARATION\n",
      "\n",
      "Modalités de déclaration\n",
      "Le principe : une seule déclaration de revenus par foyer fiscal\n",
      "Pour les personnes seules (célibataires, divorcés, veufs, concubins) le foyer fiscal est constitué du contribuable et des personnes à charge.\n",
      "Pour les personnes mariées et pacsées, le foyer fiscal est constitué du contribuable, de son conjoint et des personnes à charge.\n",
      "Les revenus et les charges de tous les membres du foyer fiscal sont pris en compte pour établir une imposition uni\n",
      "------------------------------------------------------------\n",
      "\n",
      "--- Chunk 3 ---\n",
      "Titre : DÉCLAREZ EN LIGNE\n",
      "Source : https://www.impots.gouv.fr/particulier/declarez-en-ligne\n",
      "Contenu :\n",
      "DÉCLAREZ EN LIGNE\n",
      "\n",
      "Déclarez en ligne\n",
      "Les avantages de la déclaration en ligne\n",
      "En choisissant la déclaration en ligne, vous profitez de plusieurs avantages :\n",
      "vous avez un délai supplémentaire pour déclarer vos revenus par rapport à la déclaration papier ;\n",
      "vous disposez de la mention de certaines données déjà pré-remplies, d’une aide à la saisie, du calcul automatique de vos frais kilométriques, d'un mécanisme de report entre les déclarations annexes et la déclaration principale ;\n",
      "un courriel de c\n",
      "------------------------------------------------------------\n"
     ]
    }
   ],
   "source": [
    "inspect_documents(load_documents_from_duckdb(\"../data/data.duckdb\"))\n",
    "    \n"
   ]
  },
  {
   "cell_type": "code",
   "execution_count": 93,
   "id": "46f8d025d6d0836",
   "metadata": {
    "ExecuteTime": {
     "end_time": "2024-11-22T11:35:19.671439Z",
     "start_time": "2024-11-22T11:35:15.566461Z"
    },
    "collapsed": false
   },
   "outputs": [],
   "source": [
    "# Module 2 : Génération des embeddings et stockage avec FAISS\n",
    "\n",
    "def create_faiss_index(documents: list[Document], save_path: str = \"faiss_index\") -> FAISS:\n",
    "    # Embeddings via Hugging Face\n",
    "    embedding_model = HuggingFaceEmbeddings(\n",
    "        model_name=\"sentence-transformers/all-MiniLM-L6-v2\"\n",
    "    )\n",
    "\n",
    "    # Création de l'index FAISS\n",
    "    faiss_index = FAISS.from_documents(documents, embedding_model)\n",
    "\n",
    "    # Sauvegarde locale\n",
    "    faiss_index.save_local(save_path)\n",
    "\n",
    "    return faiss_index\n"
   ]
  },
  {
   "cell_type": "code",
   "execution_count": 100,
   "id": "e0c67cc3",
   "metadata": {},
   "outputs": [
    {
     "name": "stdout",
     "output_type": "stream",
     "text": [
      "COMMENT DÉCLARER VOS REVENUS ?\n",
      "https://www.impots.gouv.fr/particulier/comment-declarer-votre-impot\n",
      "COMMENT DÉCLARER VOS REVENUS ?\n",
      "\n",
      "Comment déclarer vos revenus ?\n",
      "Vous quittez la France\n",
      "En cas de départ à l’étranger, la première chose à faire est de signaler votre changement d'adresse auprès du Service des Impôts des Particuliers (SIP) duquel vous dépendez. Ce signalement est important afin que vo \n",
      "---\n",
      "VOTRE CONJOINT(E) EST DÉCÉDÉ(E)\n",
      "https://www.impots.gouv.fr/particulier/votre-conjointe-est-decedee\n",
      "VOTRE CONJOINT(E) EST DÉCÉDÉ(E)\n",
      "\n",
      "Votre conjoint(e) est décédé(e)\n",
      "Deux déclarations de revenus au titre de l'année du décès\n",
      "L’année du décès de votre conjoint ou partenaire de Pacs (N), vous avez deux déclarations de revenus à souscrire en ligne dès lors que vous étiez auparavant soumis à une imposit \n",
      "---\n",
      "L'AVIS D'IMPÔT SUR LES REVENUS\n",
      "https://www.impots.gouv.fr/particulier/lavis-dimpot-sur-les-revenus\n",
      "L'AVIS D'IMPÔT SUR LES REVENUS\n",
      "\n",
      "L'avis d'impôt sur les revenus\n",
      "À quoi correspond cet avis ?\n",
      "Chaque année, vous êtes prélevé au titre du prélèvement à la source sur votre salaire ou pensions de retraite (retenue à la source) et / ou sur votre compte bancaire (acomptes de prélèvement à la source) au t \n",
      "---\n"
     ]
    }
   ],
   "source": [
    "docs = load_documents_from_csv(\"../data/info_particulier_impot.csv\")\n",
    "index = create_faiss_index(docs, save_path=\"faiss_data2\")\n",
    "\n",
    "# Pour requêter\n",
    "retrieved_docs = index.similarity_search(\"Qui doit souscrire une déclaration de revenus chaque année ?\", k=3)\n",
    "\n",
    "for doc in retrieved_docs:\n",
    "    print(doc.metadata[\"titre\"])\n",
    "    print(doc.metadata[\"source\"])\n",
    "    print(doc.page_content[:300], \"\\n---\")\n"
   ]
  },
  {
   "cell_type": "code",
   "execution_count": 6,
   "id": "6f0c6eea",
   "metadata": {},
   "outputs": [],
   "source": [
    "# Module 3 : Recherche des passages pertinents avec une requête\n",
    "\n",
    "def load_faiss_index(load_path: str = \"faiss_data2\") -> FAISS:\n",
    "    embedding_model = HuggingFaceEmbeddings(\n",
    "        model_name=\"sentence-transformers/all-MiniLM-L6-v2\"\n",
    "    )\n",
    "    return FAISS.load_local(\n",
    "        load_path, \n",
    "        embedding_model, \n",
    "        allow_dangerous_deserialization=True  # à activer uniquement pour des documents vérifiées\n",
    "    )"
   ]
  },
  {
   "cell_type": "code",
   "execution_count": null,
   "id": "8ab37933",
   "metadata": {},
   "outputs": [],
   "source": [
    "! pip install spacy"
   ]
  },
  {
   "cell_type": "code",
   "execution_count": null,
   "id": "49e6322c",
   "metadata": {},
   "outputs": [],
   "source": [
    "! python -m spacy download fr_core_news_sm\n"
   ]
  },
  {
   "cell_type": "code",
   "execution_count": null,
   "id": "a65c7606",
   "metadata": {},
   "outputs": [],
   "source": [
    "import re\n",
    "# import spacy\n",
    "\n",
    "# nlp = spacy.load(\"fr_core_news_sm\")\n",
    "\n",
    "def nettoyer_prompt(prompt: str) -> str:\n",
    "    # suppression d'expressions parasites\n",
    "    expressions_parasites = [\n",
    "        r\"je voudrais savoir\", r\"peux[- ]tu me dire\", r\"est[- ]ce que tu peux me dire\",\n",
    "        r\"je cherche à savoir\", r\"pourrais[- ]tu me dire\", r\"est[- ]ce que\",\n",
    "        r\"dis[- ]moi\", r\"saurais[- ]tu\", r\"j'aimerais savoir\", r\"est[- ]ce qu’on peut\",\n",
    "        r\"merci de me dire\", r\"du coup\", r\"en fait\",\n",
    "        r\"\\b(euh|alors|donc|bah|ben|hein|quoi|voilà|genre)\\b\"\n",
    "    ]\n",
    "    pattern = re.compile(\"|\".join(expressions_parasites), flags=re.IGNORECASE)\n",
    "    cleaned = pattern.sub(\"\", prompt)\n",
    "    cleaned = re.sub(r\"\\s+\", \" \", cleaned).strip()\n",
    "\n",
    "    # traitement NLP avec spaCy\n",
    "    doc = nlp(cleaned)\n",
    "\n",
    "    #  lemmatisation + suppression des stop words et de la ponctuation\n",
    "    mots_utiles = [\n",
    "        token.lemma_ for token in doc\n",
    "        if not token.is_stop and not token.is_punct and token.lemma_ != ''\n",
    "    ]\n",
    "    # Reconstruction de la phrase\n",
    "    return \" \".join(mots_utiles)\n",
    "\n",
    "\n",
    "\n",
    "def get_context_from_query(index, query, k=3):\n",
    "#     query_nettoye = nettoyer_prompt(query)\n",
    "#     docs = index.similarity_search(query_nettoye, k=k)\n",
    "    docs = index.similarity_search(query, k=k)\n",
    "\n",
    "    context_parts = []\n",
    "    for doc in docs:\n",
    "        titre = doc.metadata[\"titre\"]\n",
    "        source = doc.metadata[\"source\"]\n",
    "        contenu = doc.page_content\n",
    "        formatted_doc = f\"FICHE : TITRE : {titre}\\n\\n{contenu}\\n\\nSOURCE URL à donner à l'utilisateur : {source}\"\n",
    "        context_parts.append(formatted_doc)\n",
    "\n",
    "    context_text = \"\\n\\n---\\n\\n\".join(context_parts)\n",
    "    return context_text"
   ]
  },
  {
   "cell_type": "code",
   "execution_count": 17,
   "id": "6edbaa88",
   "metadata": {},
   "outputs": [
    {
     "name": "stdout",
     "output_type": "stream",
     "text": [
      "DONATIONS PAR ACTE NOTARIÉ\n",
      "https://www.impots.gouv.fr/particulier/donations-par-acte-notarie\n",
      "DONATIONS PAR ACTE NOTARIÉ\n",
      "\n",
      "Donations par acte notarié\n",
      "Si certaines donations (dons manuels et dons familiaux de sommes d'argent) peuvent être formalisées par une simple déclaration (formulaire 2735), le recours à un notaire en matière de donation est en principe incontournable.\n",
      "Dès lors qu’une dona \n",
      "---\n",
      "CALCUL ET PAIEMENT DES DROITS\n",
      "https://www.impots.gouv.fr/particulier/calcul-et-paiement-des-droits\n",
      "CALCUL ET PAIEMENT DES DROITS\n",
      "\n",
      "Calcul et paiement des droits\n",
      "Le calcul des droits de donation s'effectue en plusieurs étapes :\n",
      "détermination du lien de parenté ;\n",
      "déduction éventuelle d'un abattement sur la valeur des biens reçus ;\n",
      "puis application du barème de taxation ;\n",
      "enfin, dans certains cas, ap \n",
      "---\n",
      "DON MANUEL\n",
      "https://www.impots.gouv.fr/particulier/don-manuel\n",
      "DON MANUEL\n",
      "\n",
      "Don manuel\n",
      "Définitions\n",
      "Une donation est un contrat par lequel, de son vivant, une personne se sépare immédiatement et irrévocablement d’un bien en faveur d’une autre personne qui l'accepte (article 894 du code civil).\n",
      "Celui qui donne est appelé\n",
      "le donateur\n",
      "et celui qui reçoit la donation \n",
      "---\n",
      "COÛT DE L'ENREGISTREMENT\n",
      "https://www.impots.gouv.fr/particulier/cout-de-lenregistrement\n",
      "COÛT DE L'ENREGISTREMENT\n",
      "\n",
      "Coût de l'enregistrement\n",
      "Cessions de droits sociaux\n",
      "Pour les cessions de participations dans des personnes morales à prépondérance immobilière, le droit d’enregistrement est de 5 %.\n",
      "Pour les cessions d’actions, de parts de fondateurs ou de parts de bénéficiaires de sociétés \n",
      "---\n"
     ]
    }
   ],
   "source": [
    "index = load_faiss_index(\"faiss_data2\")\n",
    "\n",
    "# Requête utilisateur\n",
    "query = \"Quel est le rôle principal du notaire dans le cadre des donations par acte notarié ?\"\n",
    "results = index.similarity_search(query, k=4)\n",
    "\n",
    "for doc in results:\n",
    "    print(doc.metadata[\"titre\"])\n",
    "    print(doc.metadata[\"source\"])\n",
    "    print(doc.page_content[:300], \"\\n---\")"
   ]
  },
  {
   "cell_type": "code",
   "execution_count": 18,
   "id": "204b4de5",
   "metadata": {},
   "outputs": [
    {
     "name": "stdout",
     "output_type": "stream",
     "text": [
      "FICHE : TITRE : REVENUS EXCEPTIONNELS\n",
      "\n",
      "REVENUS EXCEPTIONNELS\n",
      "\n",
      "Revenus exceptionnels\n",
      "Vous avez perçu des revenus qui ne sont pas susceptibles d'être encaissés chaque année ? Vous avez reçu cette année des revenus se rapportant à des années antérieures ? Vous pouvez peut-être bénéficier d'un régime particulier pour ces revenus.\n",
      "Revenus exceptionnels\n",
      "Il s'agit de revenus qui ne sont pas susceptibles d’être recueillis chaque année, à l’exclusion :\n",
      "des revenus taxés à un taux proportionnel ;\n",
      "des revenus qui, en raison de leur nature, sont déjà susceptibles de bénéficier des régimes spécifiques de quotient ou d’étalement (par exemple, plus-values professionnelles à court terme réalisées en cours d’exploitation).\n",
      "Un revenu est exceptionnel à la fois par sa nature et par son montant.\n",
      "Parmi les revenus qui sont exceptionnels par leur nature, on peut citer à titre d'exemple :\n",
      "des gratifications supplémentaires payées à un salarié pour services exceptionnels ;\n",
      "une indemnité dite de « pas de porte » perçue pour la cession d'un droit au bail ;\n",
      "la distribution de réserves d’une société ;\n",
      "le remboursement de rachats de cotisations pour la retraite, pour années d'études ou années incomplètes ;\n",
      "une plus-value de cession de valeurs mobilières réalisée lors du départ à la retraite d'un dirigeant de PME.\n",
      "En revanche, les revenus réalisés dans le cadre normal d'une activité professionnelle ne sont pas susceptibles d'être qualifiés d'exceptionnels, même si cette activité produit des revenus dont le montant varie fortement d'une année sur l'autre.\n",
      "Par son montant, un revenu ne sera qualifié d'exceptionnel que s'il dépasse la moyenne des revenus imposables des trois dernières années (revenus nets soumis à l'impôt, avant division par le quotient pour les revenus imposés selon le système du quotient). Les revenus à retenir sont ceux du foyer fiscal (et non les seuls revenus perçus par le membre de ce foyer percevant les revenus exceptionnels).\n",
      "Ainsi, pour un revenu exceptionnel perçu durant une année N, vous devez faire la moyenne de vos revenus imposables de N-1, N-2 et N-3. Toutefois, aucune condition de montant n’est exigée pour :\n",
      "la fraction imposable des indemnités de rupture de contrat de travail : départ volontaire, retraite, préretraite ou licenciement ;\n",
      "la prime de mobilité versée lors d’un changement de lieu de travail même si ce changement ne s'accompagne pas d'un transfert de domicile (\n",
      "BOI-RSA-CHAMP-20-30-10-30\n",
      ") ;\n",
      "la prime de restructuration de service versée aux agents du ministère de la justice ;\n",
      "les allocations pour congé de conversion capitalisées et versées en une seule fois ;\n",
      "les avances sur fermages perçues en cas de bail conclu avec un jeune agriculteur bénéficiaire d’une aide à l’installation ;\n",
      "les revenus agricoles exceptionnels ;\n",
      "le versement forfaitaire unique au titre d'une pension de retraite de faible montant ;\n",
      "le capital perçu à l’échéance d’un PERP.\n",
      "N.B. : l'option pour l'étalement ne s'applique plus aux indemnités de départ volontaire en retraite ou de mise à la retraite versées à compter du 1er janvier 2020. Seul le système du quotient est désormais applicable.\n",
      "Lien vers la documentation :\n",
      "BOI-RSA-CHAMP-20-40-10-20\n",
      "Modalités d'imposition des revenus exceptionnels\n",
      "Les revenus exceptionnels sont imposés suivant le système du quotient. Pour l'année au cours de laquelle a été réalisé un revenu exceptionnel, on procède de la façon suivante (dans l'ordre) :\n",
      "on calcule l'impôt résultant de l'application du barème progressif aux seuls revenus ordinaires ;\n",
      "on effectue le même calcul sur le revenu ordinaire majoré du revenu exceptionnel divisé par le quotient appliqué ;\n",
      "la différence entre les deux impôts précédents (2-1) est multipliée par le quotient, ce qui donne l'impôt supplémentaire correspondant au seul revenu exceptionnel ;\n",
      "le montant total de l'impôt correspond à la somme de l'impôt sur le revenu ordinaire (calcul 1) et de l'impôt supplémentaire sur le revenu exceptionnel (calcul 3).\n",
      "Pour l’application du système du quotient aux revenus exceptionnels, les revenus sont divisés par un coefficient. Ce coefficient est toujours de\n",
      "quatre\n",
      "même si le nombre d’années civiles écoulées depuis la date à laquelle le contribuable a acquis les biens ou exploitations ou a entrepris l’exercice de l’activité professionnelle générateurs des revenus est inférieur à quatre.\n",
      "Pour bénéficier du système du quotient, vous devez inscrire le total des revenus pour lesquels vous le demandez dans la case 0XX de la déclaration n° 2042 C, sans les intégrer dans les autres revenus déclarés. Précisez la nature et le détail des revenus concernés.\n",
      "Revenus différés\n",
      "Les revenus différés sont des revenus qui se rapportent, par leur date d’échéance normale, à une ou plusieurs années antérieures, mais dont vous avez eu la disposition au cours d’une même année, en raison de circonstances indépendantes de votre volonté.\n",
      "Exemples :\n",
      "rappels de traitements, salaires ou pensions (toutefois les primes ou gratifications dites ”de fin d’année“ ou de ”solde au titre de l’année précédente“, perçues en début d’année suivante, ne constituent pas un revenu dont l’échéance a été différée) ;\n",
      "loyers arriérés perçus en une seule fois ;\n",
      "salaire différé de l'héritier ou du conjoint de l'héritier de l'exploitant agricole (le coefficient applicable est plafonné à onze dès lors que le nombre d'années maximum retenu au titre de la collaboration à l'exploitation agricole pour le calcul du salaire différé est fixé à dix).\n",
      "Modalité d'imposition des revenus différés\n",
      "Pour l'imposition des revenus différés vous pouvez demander à bénéficier du système du quotient, quel que soit le montant de ces revenus différés. Pour l’application du système du quotient aux revenus différés, le coefficient diviseur/multiplicateur est égal au\n",
      "nombre d’années civiles correspondant aux échéances normales de versement augmenté de un\n",
      ". Le coefficient est donc un nombre propre à chaque situation.\n",
      "Pour bénéficier du système du quotient, vous devez inscrire le total de ces revenus, case 0XX de la déclaration n° 2042 C, sans les intégrer dans les autres revenus déclarés. Précisez la nature, le détail des revenus concernés ainsi que la ou les années d’échéance normale.\n",
      "La règle du quotient permet d'atténuer les effets de la progressivité de l'impôt sur le revenu et de réduire le montant du revenu fiscal de référence, le revenu exceptionnel y étant pris en compte pour son montant divisé par le quotient. Lorsque le revenu global total (y compris le revenu exceptionnel sans division) et le revenu global ordinaire sont taxés au même taux marginal, la taxation au quotient ne procure aucune économie d'impôt.\n",
      "En tout état de cause, la règle du quotient n'est jamais défavorable.\n",
      "Lien vers la documentation :\n",
      "BOI-IR-LIQ-20-30-20\n",
      "MAJ le 10/04/2024\n",
      "\n",
      "SOURCE URL à donner à l'utilisateur : https://www.impots.gouv.fr/particulier/revenu-exceptionnel-ou-differe\n",
      "\n",
      "---\n",
      "\n",
      "FICHE : TITRE : J’AI UNE QUESTION SUR MON AMENDE OU MON FORFAIT DE POST-STATIONNEMENT\n",
      "\n",
      "J’AI UNE QUESTION SUR MON AMENDE OU MON FORFAIT DE POST-STATIONNEMENT\n",
      "\n",
      "J’ai une question sur mon amende ou mon forfait de post-stationnement\n",
      "1\n",
      "Le Trésor Public a réalisé une action à mon encontre\n",
      "J'ai un problème avec le véhicule désigné sur l'amende\n",
      "J'ai une autre question sur mon amende et mon forfait de post-stationnement\n",
      "2\n",
      "Le Trésor Public a demandé une saisie sur mon compte bancaire ou sur mon salaire\n",
      "Ma carte grise a été bloquée par le Trésor Public\n",
      "J'ai vendu le véhicule concerné par l'infraction\n",
      "Le véhicule de l'infraction a été détruit\n",
      "Le véhicule de l'infraction a été volé\n",
      "J'ai reçu une amende relative à un véhicule que j'ai emprunté ou loué\n",
      "J'ai fait l'objet d'une usurpation d'identité\n",
      "\n",
      "SOURCE URL à donner à l'utilisateur : https://www.impots.gouv.fr/jai-une-question-sur-mon-amende-ou-mon-forfait-de-post-stationnement-0\n",
      "\n",
      "---\n",
      "\n",
      "FICHE : TITRE : AIDE À LA PERSONNE\n",
      "\n",
      "AIDE À LA PERSONNE\n",
      "\n",
      "Aide à la personne\n",
      "En application de l’article 200\n",
      "quater\n",
      "A du CGI vous pouvez bénéficier, sous certaines conditions et limites, d’un crédit d’impôt à raison des dépenses d’équipements spécialement conçus pour l’accessibilité des logements aux personnes âgées ou handicapées ou des dépenses d'équipements permettant l'adaptation des logements à la perte d'autonomie ou au handicap.\n",
      "Ce crédit d’impôt s’applique aux dépenses payées entre le\n",
      "01/01/2005 et le 31/12/2023\n",
      "et effectuées en 2023 dans votre habitation principale située en France.\n",
      "Vous pouvez également bénéficier du crédit d’impôt pour les travaux prescrits dans le cadre d’un plan de prévention contre les risques technologiques ainsi que pour les dépenses de réalisation de diagnostics préalables à ces travaux. Ces dépenses sont retenues dans la limite d’un plafond pluriannuel de cinq années consécutives.\n",
      "Personnes concernées\n",
      "Le bénéfice du crédit d'impôt vous est accordé pour les des dépenses d’équipements en faveur des personnes âgées ou handicapées (équipements spécialement conçus pour l'accessibilité des logements ou permettant l'adaptation des logements à la perte d'autonomie ou au handicap) réalisées dans votre habitation principale. Le crédit d'impôt est accordé si vous êtes propriétaires, locataires ou occupants à titre gratuit.\n",
      "Toutefois, pour les dépenses permettant l'adaptation des logements à la perte d'autonomie ou au handicap, le crédit d'impôt est accordé uniquement lorsque vous ou un membre de votre foyer fiscal remplit l'une des conditions suivantes :\n",
      "être titulaire d'une pension d'invalidité d'au moins 40 % (pension militaire ou pension pour accident du travail) ;\n",
      "être titulaire de la carte d'invalidité, de la carte portant la mention «priorité pour personne handicapée», de la carte de stationnement pour personnes handicapées ou de la carte mobilité inclusion (portant la mention invalidité, priorité ou stationnement pour personnes handicapées) ;\n",
      "souffrir d'une perte d'autonomie entraînant le classement dans l'un des groupes iso-ressources (GIR) 1 à 4 destinée à l'attribution de l'allocation personnalisée d'autonomie (APA).\n",
      "Le bénéfice du crédit d'impôt pour les dépenses de travaux prescrits par un plan de prévention des risques technologiques et, le cas échéant, de diagnostics préalables à ces travaux est réservé aux seuls propriétaires de logements :\n",
      "qu'ils affectent à leur habitation principale ;\n",
      "qu'ils louent ou s'engagent à louer à titre d'habitation principale du locataire pendant au  moins cinq ans à une personne autre qu’un membre de leur foyer fiscal.\n",
      "Nature des dépenses éligibles\n",
      "Le crédit d’impôt concerne les dépenses payées :\n",
      "du 1\n",
      "er\n",
      "janvier 2005 au 31 décembre 2023 au titre, d’une part, des équipements en faveur des personnes âgées ou handicapées dont la liste limitative figure à l’\n",
      "article 18 ter de l’annexe IV au CGI\n",
      ", d’autre part, de travaux prescrits aux propriétaires d'habitation au titre du IV de l'\n",
      "article L. 515-16-2 du code de l'environnemen\n",
      "t\n",
      ", étant précisé qu'il s'agit pour ces derniers travaux de ceux payés depuis le 1\n",
      "er\n",
      "janvier 2010 s'agissant des propriétaires-bailleurs ;\n",
      "sur une période pluriannuelle de cinq années consécutives au titre de la réalisation de diagnostics préalables aux travaux prescrits aux propriétaires d'habitation au titre du IV de l'article L. 515-16-2 du code de l'environnement.\n",
      "Quelle que soit leur nature, les dépenses d'équipements en faveur des personnes âgées ou handicapées, les diagnostics préalables aux travaux de prévention des risques technologiques et ces travaux eux-mêmes ne peuvent ouvrir droit au crédit d’impôt que si ces équipements sont fournis et installés, ou ces travaux réalisés, par une même entreprise et donnent lieu à l’établissement d’une facture.\n",
      "Détermination du crédit d'impôt :\n",
      "Le crédit d’impôt est calculé à partir des montants indiqués par la facture de l’entreprise :\n",
      "pour les dépenses d'équipements en faveur des personnes âgées ou handicapées : coût des équipements et de la main d'œuvre toutes taxes comprises (TTC) correspondant aux travaux d’installation ou de remplacement de ces équipements ;\n",
      "pour les travaux de prévention des risques technologiques : prix d’achat des matériaux, des frais divers de main-d'œuvre toutes taxes comprises correspondant à la réalisation des travaux et, le cas échéant, du coût du diagnostic préalable à ces mêmes travaux.\n",
      "Pour les dépenses d'équipements en faveur des personnes âgées ou handicapées, le crédit d’impôt est retenu dans la limite d’un plafond pluriannuel de dépenses sur une période de cinq années consécutives.\n",
      "Les dépenses d'équipements en faveur des personnes âgées ou handicapées sont plafonnées. Pour le calcul du crédit d’impôt 2023, le plafond s’applique aux dépenses effectuées du 1\n",
      "er\n",
      "janvier 2019 au 31 décembre 2023. Il est fixé à 5 000 € pour une personne seule et 10 000 € pour les personnes soumises à une imposition commune, majoré de 400 € par personne ou enfant à charge (cette majoration est divisée par deux en présence d’un enfant en résidence alternée ou à charge partagée).\n",
      "Pour les dépenses de travaux de prévention des risques technologiques et de diagnostics préalables à ces travaux celles-ci sont retenues dans la limite d’un plafond unique de\n",
      "20 000 € par logement\n",
      "qui s'applique sur une période pluriannuelle comprise entre le 1er janvier 2015 et le 31 décembre 2023 quelle que soit votre situation de famille.\n",
      "Le plafond applicable par logement pour les dépenses effectuées par les propriétaires-bailleurs s’applique séparément de celui applicable aux propriétaires occupants. Aussi, le reliquat éventuel de plafond non utilisé au titre d'un logement ne peut pas être employé au titre d'un autre logement.\n",
      "Le taux du crédit d’impôt est fixé à :\n",
      "40 %\n",
      "pour les dépenses de travaux de prévention des risques technologiques ou pour les dépenses correspondant à la réalisation de diagnostics préalables à ces mêmes travaux ;\n",
      "25 %\n",
      "pour les dépenses d’équipements spécialement conçus pour l’accessibilité des logements aux personnes âgées ou handicapées et pour les dépenses d'équipements permettant l'adaptation des logements à la perte d'autonomie ou au handicap.\n",
      "Obligations déclaratives :\n",
      "Pour bénéficier de ce crédit d'impôt, il convient de remplir les cases suivantes :\n",
      "case 7WJ de la déclaration n°2042 RICI, en indiquant le coût des équipements spécialement conçus pour l’accessibilité des logements aux personnes âgées ou handicapées ;\n",
      "case 7WI de la déclaration n°2042 RICI, en indiquant le coût des équipements permettant l'adaptation des logements à la perte d'autonomie ou au handicap ;\n",
      "case 7WL de la déclaration n°2042 RICI, en indiquant le coût des diagnostics préalables et des travaux de prévention contre les risques technologiques dans la résidence principale ;\n",
      "case 7WR de la déclaration n°2042 RICI, en indiquant le coût des diagnostics préalables et des travaux de prévention contre les risques technologiques dans les logements donnés en location.\n",
      "Concernant les travaux de prévention des risques technologiques réalisés dans un logement que vous donnez en location ou que vous vous engagez à donner en location pendant au  moins cinq ans à titre d’habitation principale à une personne autre qu’un membre de votre foyer fiscal, consultez la notice n°\n",
      "2041-GR\n",
      "pour plus de précisions et utilisez ce formulaire pour rédiger votre engagement de location ainsi que pour déterminer le montant à reporter case 7WR.\n",
      "Vous devez tenir à la disposition de l'administration fiscale la facture de l’entreprise qui a réalisé les travaux. Elle doit indiquer, outre l’adresse de réalisation des travaux, la nature des travaux et la date du paiement, la désignation et le prix unitaire des équipements, ou des prestations réalisées au titre des travaux de prévention des risques technologiques.\n",
      "MAJ le 02/05/2024\n",
      "\n",
      "SOURCE URL à donner à l'utilisateur : https://www.impots.gouv.fr/particulier/aide-la-personne\n"
     ]
    }
   ],
   "source": [
    "index = load_faiss_index(\"faiss_data2\")\n",
    "retrieved_context = get_context_from_query(index, \"Lequel des revenus suivants est considéré comme revenu exceptionnel par sa nature sans condition de montant, permettant ainsi de bénéficier du système du quotient ?\")\n",
    "print(retrieved_context)"
   ]
  },
  {
   "cell_type": "code",
   "execution_count": 103,
   "id": "129659a4",
   "metadata": {},
   "outputs": [
    {
     "data": {
      "text/plain": [
       "[Document(id='f245e8ac-9c9e-458e-ac6f-51b7fdb7d1cf', metadata={'source': 'https://www.impots.gouv.fr/je-souhaite-contester-mon-amende-ou-mon-forfait-de-post-stationnement-0', 'titre': 'JE SOUHAITE CONTESTER MON AMENDE OU MON FORFAIT DE POST-STATIONNEMENT'}, page_content=\"JE SOUHAITE CONTESTER MON AMENDE OU MON FORFAIT DE POST-STATIONNEMENT\\n\\nJe souhaite contester mon amende ou mon forfait de post-stationnement\\n1\\nJe conteste une amende radar (vitesse, feu-rouge etc.)\\nJe conteste toute autre nature d’amende\\nJe souhaite contester mon forfait de post-stationnement\\n2\\nJe conteste une amende forfaitaire radar (vitesse, feu-rouge etc.)\\nJe conteste une amende forfaitaire majorée radar (vitesse, feu-rouge etc.)\\nJe conteste une amende forfaitaire d’une autre nature que radar\\nJe conteste une amende forfaitaire délictuelle ou une amende forfaitaire majorée délictuelle\\nJe conteste une amende forfaitaire majorée SNCF ou RATP\\nJe conteste un avis d'amende faisant suite à une condamnation prononcée par une décision de justice\\nJe souhaite contester mon forfait de post-stationnement\\nJe souhaite contester mon forfait de post-stationnement majoré\\n3\\nJe conteste une amende forfaitaire d'une autre nature que radar\\nJe conteste une amende forfaitaire majorée d'une autre nature que radar\\nJe conteste une amende forfaitaire délictuelle\\nJe conteste une amende forfaitaire majorée délictuelle\"),\n",
       " Document(id='03f2c889-3d3c-4e83-b6b3-03da8d08754b', metadata={'source': 'https://www.impots.gouv.fr/particulier/les-revenus-mobiliers', 'titre': 'LES REVENUS MOBILIERS'}, page_content=\"LES REVENUS MOBILIERS\\n\\nLes revenus mobiliers\\nLes revenus imposables\\nVos revenus mobiliers proviennent des valeurs mobilières que vous possédez (actions, parts de SARL, obligations, bons de capitalisation, contrats d'assurance-vie, etc.). Ils ne doivent pas être confondus avec les plus-values mobilières que vous encaissez lors de la cession de ces mêmes valeurs (pour les plus-values, consultez la documentation «\\xa0Les cessions mobilières\\xa0»).\\nCes revenus peuvent provenir de placements à revenu fixe ou de placements à revenu variable.\\nLes revenus provenant de placements à revenus fixes\\nPlusieurs catégories de placements à revenu fixe produisent des revenus imposables :\\nles obligations et autres titres d'emprunt négociables ;\\nles bons émis par le Trésor ;\\nles bons de caisse ;\\nles créances, les dépôts et les cautionnements ;\\nles comptes sur livrets (livrets bancaires ordinaires rémunérés) ;\\nles livrets d'épargne entreprise (LEE) ouverts depuis le 1er janvier 2014 ;\\nles plans d'épargne logement ouverts avant le 1er janvier 2018 ayant plus de 12 ans et les plans d'épargne logement ouverts depuis le 1er janvier 2018 ;\\nles comptes d'épargne logement ouverts depuis le 1er janvier 2018 ;\\nles comptes à terme (CAT) ;\\nles SICAV et FCP (fonds commun de placement) monétaires ;\\nles contrats ou bons de capitalisation ;\\nles comptes courants d'associés rémunérés.\\nCes revenus de placements sont appelés, selon les cas, produits ou intérêts.\\nLes revenus provenant de placements à revenu variable\\nCes placements à revenu variable (participations dans le capital de sociétés) produisent des revenus aléatoires d'une année sur l'autre et se répartissent ainsi\\xa0:\\nles dividendes, acomptes sur dividendes et répartitions exceptionnelles ; il s'agit des distributions les plus fréquentes. Ce sont les sommes que l'assemblée générale annuelle des associés décide de répartir. Ces sommes correspondent aux bénéfices de l'exercice, ou parfois à certaines réserves ;\\nles distributions liées à une modification du capital de la société. Il s'agit des remboursements d'apports ou des primes d'émission versés aux associés ou actionnaires. Pour cela, il faut que tous les bénéfices et les réserves autres que la réserve légale aient été auparavant répartis ;\\nla distribution du boni de liquidation : il s'agit des remboursements effectués consécutivement à la liquidation de la société. Le boni de liquidation taxable est égal à la différence entre l'actif net de la société au jour de la liquidation et le montant des apports réels ou assimilés.\\nLes revenus produits de placements à revenus variables sont appelés, selon les cas, dividendes ou distributions\\xa0.\\nLa taxation à l'impôt sur le revenu\\nLes revenus de vos placements financiers perçus depuis le 1.1.2018 sont soumis, sauf exceptions, au prélèvement forfaire unique (PFU) de 12,8\\xa0% (7,5 % pour certains produits d'assurance vie). Toutefois, si vous y avez intérêt, vous pouvez opter pour l'imposition au barème progressif de l'ensemble de vos revenus de capitaux mobiliers et plus-values de cession de valeurs mobilières.\\nLors du versement de ces revenus, un prélèvement forfaitaire obligatoire mais non libératoire est effectué par l'établissement payeur, sauf cas de dispense. Ce prélèvement constitue un acompte d'impôt sur le revenu.\\nLe prélèvement forfaitaire obligatoire non libératoire\\nAcquitté au moment du versement des revenus de placements financiers par l'établissement payeur, le prélèvement forfaitaire obligatoire constitue une avance d’impôt sur le revenu.\\nSon taux est de 12,8\\xa0% pour l'ensemble des produits versés à compter de 2018 (à l'exception des produits des bons ou contrats de capitalisation ou d'assurance-vie de plus de 8 ans afférents à des versements effectués à compter du 27.9.2017 qui sont soumis au prélèvement au taux de 7,5%).\\nVous pouvez demander à être dispensé de ce prélèvement sur les revenus de l'année N si le revenu fiscal de référence de votre foyer fiscal au titre de l’avant-dernière année (N-2) ne dépasse pas certaines limites (revenu fiscal de référence de 2021 pour les revenus perçus en 2023)\\xa0:\\nPour les produits de placement à revenu fixe\\n: peuvent être dispensés du prélèvement forfaitaire obligatoire les contribuables dont le revenu fiscal de référence de l’année N-2 est inférieur à :\\n25 000 € pour les célibataires, veufs ou divorcés ;\\n50 000 € pour les mariés ou pacsés soumis à une imposition commune.\\nPour les revenus distribués:\\npeuvent être dispensés du prélèvement forfaitaire obligatoire les contribuables dont le revenu fiscal de référence de l’année N-2 est inférieur à:\\n50 000 € pour les célibataires, veufs ou divorcés ;\\n75 000 € pour les mariés ou pacsés soumis à une imposition commune.\\nVous pouvez ainsi demander à être dispensé de ce prélèvement en fournissant à votre établissement financier une attestation sur l’honneur certifiant que le revenu de votre foyer fiscal de l’avant-dernière année ne dépasse pas les limites susvisées.\\nCette demande de dispense doit être présentée à votre banque avant le 30 novembre de l’année précédant l’encaissement des revenus. Pour les produits des bons ou contrats de capitalisation ou d'assurance-vie la demande doit être formulée au plus tard à la date de leur encaissement.\\nLors de la taxation de votre déclaration de revenus, le prélèvement obligatoire vous sera restitué sous la forme d’un crédit d’impôt, pris en compte dans le calcul de votre impôt. Si son montant excède l’impôt dû, il vous sera remboursé.\\nEn outre, lors de leur versement, les produits de placement sont soumis aux prélèvements sociaux au taux de 17,2\\xa0%.\\nLe principe: l'imposition au PFU\\nLors de la taxation de votre déclaration de revenus les revenus de capitaux mobiliers (RCM) sont soumis, sauf exceptions, au prélèvement forfaire unique de 12,8\\xa0%.\\nToutefois, les produits des bons ou contrats de capitalisation ou d'assurance-vie de plus de 8 ans afférents à des versements effectués à compter du 27.9.2017 et correspondant à des primes n'excédant pas 150 000 € sont soumis au prélèvement au taux de 7,5%.\\nPar ailleurs, les produits des bons ou contrats de capitalisation ou d'assurance-vie afférents à des versements effectués avant le 27.9.2017 continuent de bénéficier du régime applicable avant cette date\\xa0: imposition au barème progressif sauf si vous avez opté pour le prélèvement forfaitaire libératoire au moment du versement de ces produits.\\nLes produits des bons ou contrats de capitalisation ou d'assurance-vie de plus de 8 ans afférents à des versements effectués avant le 27.9.2017 ou après cette date bénéficient d'un abattement de 4 600 € (personne seule) ou 9 200 € (couple marié soumis à imposition commune).\\nLorsque vos revenus de capitaux mobiliers sont imposés au PFU, l'abattement de 40\\xa0% sur les dividendes ne s'applique pas, les frais et charges ne sont pas déductibles, les déficits RCM des années antérieures ne s'imputent pas et aucune CSG déductible n'est calculée au titre des RCM.\\nSur option globale\\xa0: imposition au barème progressif\\nSi vous y avez intérêt, vous pouvez opter pour l'imposition au barème progressif de l'ensemble de vos revenus de capitaux mobiliers et de vos plus-values de cession de valeurs mobilières en cochant la case 2OP de votre déclaration de revenus.\\nDans ce cas, l'abattement de 40\\xa0% s'applique sur les dividendes éligibles, les frais et charges sont déductibles, les déficits RCM des années antérieures s'imputent et une fraction de la CSG afférente aux RCM est déductible du revenu global.\\nL’abattement de 40% sur les dividendes\\nVos dividendes d’actions ou autres revenus distribués sont soumis au barème après déduction d’un abattement forfaitaire de 40%. Il est calculé automatiquement par l’administration sur le montant brut des revenus.\\nCertains revenus distribués sont exclus de l’abattement de 40\\xa0% : il s’agit notamment des jetons de présence, des revenus distribués à titre d’avance ou d’acomptes aux associés, des revenus distribués par des sociétés établies dans des Etats avec lesquels la France n'a pas signé de convention fiscale, des bénéfices provenant de participations dans des structures soumises à un régime fiscal privilégié, des distributions provenant de bénéfices dans des sociétés d’investissements immobiliers cotées ou des sociétés de placement à prépondérance immobilière à capital variable.\\nLa déduction des frais financiers\\nSi vous avez opté pour l'imposition au barème, vos revenus de placements financiers sont pris en compte pour le calcul de l’impôt sur le revenu au barème après déduction de certains frais engagés pour leur acquisition et leur conservation.\\nAinsi sont admis en déduction pour leur montant réel et justifié :\\nles frais de garde des titres\\xa0;\\nles frais d'encaissement des coupons (en général l'établissement payeur les a déjà déduits)\\xa0;\\nles frais de location de coffre\\xa0;\\nles primes d'assurance concernant des valeurs mobilières si l'objet n'est pas de garantir une dépréciation de ces valeurs.\\nPar exception, ne sont pas déductibles :\\nles frais et charges destinés à accroître ou à conserver le capital, par exemple les intérêts des emprunts contractés pour l’acquisition de valeurs mobilières\\xa0;\\nles frais relatifs aux revenus de créances\\xa0;\\nles frais relatifs aux revenus exonérés (ex. : frais de garde de titres figurant dans un PEA), aux revenus ayant supporté le prélèvement libératoire et aux revenus imposés à un taux forfaitaire.\\nLorsque les frais déductibles sont supérieurs aux revenus de placement financiers imposables, un déficit est constaté. Ce déficit est uniquement reportable sur les revenus de capitaux mobiliers des 6 années suivantes.\\nLe prélèvement forfaitaire libératoire\\nLe prélèvement forfaitaire libératoire sur option sur les produits des bons et contrats de capitalisation et d'assurance vie\\nLes produits des bons ou contrats de capitalisation et d'assurance-vie de source française et européenne afférents à des versements effectués avant le 27.9.2017 peuvent faire l'objet, sur option, d'un prélèvement libératoire de l'impôt sur le revenu en lieu et place de l’imposition au barème progressif. Le prélèvement libératoire est effectué au moment de l'encaissement des revenus.\\nLe taux du prélèvement varie selon l'année du retrait ou de la clôture du contrat et la date de souscription du contrat :\\nDurée égale ou supérieure à 8 ans\\nEn cas de rachat ou de clôture après 8 ans, les produits acquis ou constatés peuvent être soumis à un prélèvement forfaitaire libératoire de 7,5%. Ils bénéficient d'un abattement annuel de 4 600 € (personnes seules) ou 9 200 € (couples soumis à une imposition commune) appliqué a posteriori, lors de la taxation de la déclaration de revenus. A défaut d'option pour le prélèvement, ces produits sont soumis à l'impôt sur le revenu selon le barème progressif, après application de l'abattement de 4 600 € ou 9 200 €.\\nDurée inférieure à 8 ans\\nEn cas d'option pour le prélèvement forfaitaire, les taux applicables aux produits (sans abattement préalable) sont de :\\n35 % lorsque la durée du contrat est inférieure à 4 ans ;\\n15 % lorsque cette durée est supérieure ou égale à 4 ans.\\nA défaut d'option pour le prélèvement libératoire, les produits sont taxés au barème progressif.\\nPour plus d'information consultez la documentation liée à l'assurance vie Particulier > Gérer mon patrimoine/mon logement > J'investis en valeurs mobilières > L'assurance-vie.\\nLe prélèvement forfaitaire libératoire obligatoire\\nLe prélèvement forfaitaire libératoire s'applique obligatoirement aux produits suivants :\\nLes produits de l'épargne solidaire\\nLes produits de placements à revenu fixe abandonnés au profit d'organismes d'intérêt général sont soumis à un prélèvement de 5 %.\\nLes produits payés dans un Etat ou Territoire Non Coopératif (ETNC)\\nLe prélèvement appliqué est de 75 %.\\nLes revenus exonérés\\nSont concernés par l'exonération les intérêts de certains comptes sur livret\\xa0:\\nLe \\xa0livret d’épargne populaire\\xa0;\\nLe livret A ;\\nLe\\xa0compte d’épargne-logement ouvert avant le 1.1.2018;\\nLe\\xa0plan d’épargne-logement ouvert avant le 1.1.2018 et de moins de 12ans;\\nLe\\xa0livret jeune\\xa0;\\nLe\\xa0livret de développement durable \\xa0;\\nLe\\xa0livret d’épargne-entreprise\\xa0;\\nLe PEP.\\nainsi que les produits de certains contrats d'assurance vie et de bons ou contrats de capitalisation :\\nLes produits des bons ou des contrats souscrits avant le 1er janvier 1983 à l'exception des produits perçus depuis le 1er janvier 2020 et se rattachant à des primes versées depuis le 10 octobre 2019 ;\\nLes produits des bons ou des contrats en unité de compte d’une durée au moins égale à 8 ans et principalement investis en actions (dits contrats DSK ou contrats NSK)\\xa0;\\nPour les bons ou contrats d’une durée au moins égale à 8 ans (ou 6 ans pour les contrats souscrits avant le 1er janvier 1990) souscrits avant le 26/9/1997 auprès d’une entreprise d’assurance établie en France, les produits acquis ou constatés à compter du 1/1/1998 et attachés aux versements suivants :\\nversements effectués avant le 26/9/1997,\\nversements effectués à compter du 26/9/1997 sur des contrats à primes périodiques lorsqu’ils correspondent aux primes initialement prévues par le contrat ;\\nversements programmés effectués entre le 26/9/1997 et le 31/12/1997 en exécution d’un engagement pris avant le 26/9/1997 et le 31/12/1997 ;\\nversements libres, dans la limite de 200 000 F (30 490 €) par souscripteur, effectués entre le 26/9/1997 et le 31/12/1997).\\nLa taxation aux prélèvements sociaux\\nLa plupart des RCM ont été soumis aux prélèvements sociaux lors de leur encaissement en 2023 au taux de 17,2\\xa0%..\\nLes produits qui n'auraient pas fait l'objet de ce prélèvement sont soumis aux prélèvements sociaux lors du traitement de la déclaration de revenus, au taux global de 17,2 % pour les revenus perçus en 2023.\\nTaux des prélèvements sociaux\\nLes prélèvements sociaux suivants ont été appliqués sur vos revenus de placement financiers lors de leur versement en 2019 :\\nla contribution sociale généralisée (CSG)\\xa0: 9,2 % ;\\nla contribution pour le remboursement de la dette sociale (CRDS) : 0,5 % ;\\nle prélèvement de solidarité\\xa0: 7,5 %.\\nRevenus ouvrant droit à CSG déductible\\nSi vous avez opté pour l'imposition de vos revenus et gains mobiliers au barème progressif, une partie de la CSG afférente aux RCM imposés au barème est déductible de votre revenu imposable de l'année de son paiement à hauteur de 6,8\\xa0% (à l'exception des produits des fonds en euros des bons et contrats de capitalisation ou d'assurance-vie).\\nMAJ le \\xa030/05/2024\"),\n",
       " Document(id='5f709477-0966-42d1-a1f8-c29168f1aa36', metadata={'source': 'https://www.impots.gouv.fr/jai-une-question-sur-mon-amende-ou-mon-forfait-de-post-stationnement-0', 'titre': 'J’AI UNE QUESTION SUR MON AMENDE OU MON FORFAIT DE POST-STATIONNEMENT'}, page_content=\"J’AI UNE QUESTION SUR MON AMENDE OU MON FORFAIT DE POST-STATIONNEMENT\\n\\nJ’ai une question sur mon amende ou mon forfait de post-stationnement\\n1\\nLe Trésor Public a réalisé une action à mon encontre\\nJ'ai un problème avec le véhicule désigné sur l'amende\\nJ'ai une autre question sur mon amende et mon forfait de post-stationnement\\n2\\nLe Trésor Public a demandé une saisie sur mon compte bancaire ou sur mon salaire\\nMa carte grise a été bloquée par le Trésor Public\\nJ'ai vendu le véhicule concerné par l'infraction\\nLe véhicule de l'infraction a été détruit\\nLe véhicule de l'infraction a été volé\\nJ'ai reçu une amende relative à un véhicule que j'ai emprunté ou loué\\nJ'ai fait l'objet d'une usurpation d'identité\")]"
      ]
     },
     "execution_count": 103,
     "metadata": {},
     "output_type": "execute_result"
    }
   ],
   "source": [
    "results"
   ]
  },
  {
   "cell_type": "code",
   "execution_count": 105,
   "id": "9e702d0b4e58f115",
   "metadata": {
    "ExecuteTime": {
     "end_time": "2024-11-22T11:37:04.767818Z",
     "start_time": "2024-11-22T11:37:00.991250Z"
    },
    "collapsed": false
   },
   "outputs": [],
   "source": [
    "\n",
    "# Génère une réponse en utilisant l’API du LLM local + le contexte FAISS\n",
    "def generate(user_input, previous_context):\n",
    "    index = load_faiss_index()\n",
    "    retrieved_context = get_context_from_query(index, user_input)\n",
    "\n",
    "    prompt = f\"\"\"Voici des documents utiles : \n",
    "\n",
    "{retrieved_context}\n",
    "\n",
    "En te basant sur ces informations, réponds à la question suivante : \n",
    "{user_input}\n",
    "\"\"\"\n",
    "\n",
    "    r = requests.post(\n",
    "        \"http://127.0.0.1:11434/api/generate\",\n",
    "        json={\n",
    "            \"model\": model,\n",
    "            \"prompt\": prompt,\n",
    "            \"context\": previous_context,\n",
    "        },\n",
    "        stream=True,\n",
    "    )\n",
    "    r.raise_for_status()\n",
    "\n",
    "    for line in r.iter_lines():\n",
    "        body = json.loads(line)\n",
    "        response_part = body.get(\"response\", \"\")\n",
    "        print(response_part, end=\"\", flush=True)\n",
    "\n",
    "        if \"error\" in body:\n",
    "            raise Exception(body[\"error\"])\n",
    "\n",
    "        if body.get(\"done\", False):\n",
    "            return body[\"context\"]\n"
   ]
  },
  {
   "cell_type": "code",
   "execution_count": null,
   "id": "c96009ba",
   "metadata": {},
   "outputs": [],
   "source": []
  }
 ],
 "metadata": {
  "kernelspec": {
   "display_name": ".venv",
   "language": "python",
   "name": "python3"
  },
  "language_info": {
   "codemirror_mode": {
    "name": "ipython",
    "version": 3
   },
   "file_extension": ".py",
   "mimetype": "text/x-python",
   "name": "python",
   "nbconvert_exporter": "python",
   "pygments_lexer": "ipython3",
   "version": "3.10.11"
  }
 },
 "nbformat": 4,
 "nbformat_minor": 5
}
